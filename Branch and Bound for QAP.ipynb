{
 "cells": [
  {
   "cell_type": "markdown",
   "metadata": {},
   "source": [
    "# Branch and Bound for the Quadratic Assignment Problem"
   ]
  },
  {
   "cell_type": "markdown",
   "metadata": {},
   "source": [
    "Maxine: have a look at this thesis: `https://onedrive.live.com/?cid=801F87A75BCB7685&id=801F87A75BCB7685%21456&parId=801F87A75BCB7685%21283&o=OneUp`"
   ]
  },
  {
   "cell_type": "code",
   "execution_count": 1,
   "metadata": {},
   "outputs": [],
   "source": [
    "##This is an initialization cell. Run this first\n",
    "import pandas as pd\n",
    "import numpy as np\n",
    "from itertools import product\n",
    "import time\n",
    "import math\n",
    "import matplotlib\n",
    "import matplotlib.pyplot as plt"
   ]
  },
  {
   "cell_type": "markdown",
   "metadata": {},
   "source": [
    "The functions below are for inputting the csv data (that is in the QAPLIB format) and making the matrices numpy arrays."
   ]
  },
  {
   "cell_type": "code",
   "execution_count": 2,
   "metadata": {},
   "outputs": [],
   "source": [
    "def CSVtoNumpyArray(rawdata):\n",
    "    \"\"\"\n",
    "    Input: \n",
    "    rawdata = a csv file (insert name as a string)\n",
    "\n",
    "    Output:\n",
    "    two numpy matrices in a tuple\n",
    "    \"\"\"\n",
    "    data = pd.read_csv(rawdata)  #Reads the data in as a pandas object\n",
    "    c = data.columns\n",
    "    column = int(c[0])\n",
    "    final_data1 = data.iloc[:column,:].values  #Sets data into a series of numpy arrays of strings\n",
    "    final_data2 = data.iloc[column:,:].values  #1 is for the first matrix(loc) and 2 is for the second(flow)\n",
    "    \n",
    "\n",
    "    #Forms the matrix as a numpy array (easier to work with) instead of an list of lists of strings\n",
    "    def string_to_integers(final_data):\n",
    "        matrix = []\n",
    "        for j in range(column):\n",
    "            string = final_data[j][0]\n",
    "            string2 = string.split(\" \")\n",
    "            emptyarray = []\n",
    "            for i in string2:\n",
    "                if i != '':\n",
    "                    emptyarray.append(int(i))\n",
    "            matrix.append(emptyarray)\n",
    "        npmatrix = np.array(matrix) \n",
    "        return npmatrix\n",
    "    return string_to_integers(final_data1),string_to_integers(final_data2)"
   ]
  },
  {
   "cell_type": "code",
   "execution_count": 3,
   "metadata": {},
   "outputs": [],
   "source": [
    "#REPOSITORY - can download from \"Some instances from QAPLIB from the Github\"\n",
    "\n",
    "#small sized matrices(under 10x10) (quick on all methods)\n",
    "matrix_size_4 = 'made4.csv'\n",
    "matrix_size_5 = 'made5.csv'\n",
    "matrix_size_6 = 'made6.csv'\n",
    "matrix_size_7 = 'made7.csv'\n",
    "matrix_size_8 = 'made8.csv'\n",
    "matrix_size_9 = 'made9.csv'\n",
    "\n",
    "#medium sized matrices(ranging from 10x10 to 30x30) (slow on deterministic methods, fast on heuristics)\n",
    "matrix_size_10 = 'tai10a.csv'\n",
    "matrix_size_11 = 'made11.csv'\n",
    "matrix_size_12 = 'tai12a.csv'\n",
    "matrix_size_15 = 'chr15a.csv' \n",
    "matrix_size_20 = 'chr20a.csv'\n",
    "matrix_size_26 = 'bur26a.csv'\n",
    "\n",
    "#large sized matrices(30x30 and bigger)(reasonably slow on the heuristics to a certain degree of accuracy)\n",
    "matrix_size_40 = 'tai40a.csv'\n",
    "matrix_size_60 = 'tai60.csv'\n",
    "matrix_size_80 = 'tai80.csv'\n",
    "matrix_size_256 = 'tai256c.csv'\n",
    "\n",
    "datamatrix = CSVtoNumpyArray(matrix_size_4) # Decide the size of problem to run in the code (clue: \n",
    "                                                #the number in the original name is the size)\n",
    "MatrixLoc = datamatrix[0]\n",
    "MatrixFlow = datamatrix[1]"
   ]
  },
  {
   "cell_type": "markdown",
   "metadata": {},
   "source": [
    "Below is the permutation generating function. For medium and large instances it would be wise to run this function to file separately first and then use the results for Exhaustive Search and/or Branch and Bound."
   ]
  },
  {
   "cell_type": "code",
   "execution_count": 4,
   "metadata": {},
   "outputs": [],
   "source": [
    "def QAPPermutations(iterable, r=None):\n",
    "    \"\"\"\n",
    "    Input:\n",
    "    String or numbers separated by a space\n",
    "    optional= the length that the permutations must be\n",
    "    \n",
    "    Output:\n",
    "    a generator of permutations\n",
    "    \n",
    "    Sourced from the itertools library and adjusted to suit this data type\n",
    "    https://docs.python.org/3.4/library/itertools.html#itertools.permutations \n",
    "    \"\"\"\n",
    "    \n",
    "    pool = iterable.split(\" \")\n",
    "    n = len(pool)\n",
    "    r = n if r is None else r\n",
    "    for indices in product(range(n), repeat=r):\n",
    "        if len(set(indices)) == r:\n",
    "            yield list(pool[i] for i in indices)"
   ]
  },
  {
   "cell_type": "code",
   "execution_count": null,
   "metadata": {},
   "outputs": [],
   "source": []
  },
  {
   "cell_type": "code",
   "execution_count": 5,
   "metadata": {},
   "outputs": [],
   "source": [
    "def FitnessFunction(MatrixLoc, MatrixFlow, perm):\n",
    "    \"\"\"\n",
    "    Input:\n",
    "    MatrixLoc: numpy array\n",
    "    MatrixFlow: numpy array\n",
    "    perm: numpy array\n",
    "    \n",
    "    Output:\n",
    "    total: int\n",
    "\n",
    "    \"\"\"\n",
    "    #initialization\n",
    "    length = len(MatrixLoc)\n",
    "    total = 0\n",
    "    \n",
    "    #the sum\n",
    "    for i in range(length):\n",
    "        for j in range(length):\n",
    "            if i!=j:\n",
    "                total += MatrixLoc[i][j]*MatrixFlow[int(perm[i])][int(perm[j])]\n",
    "    return total         "
   ]
  },
  {
   "cell_type": "code",
   "execution_count": 14,
   "metadata": {},
   "outputs": [],
   "source": [
    "def BranchandBound(MatrixLoc,MatrixFlow):\n",
    "    \"\"\"\n",
    "    Input:\n",
    "    MatrixLoc\n",
    "    MatrixFlow\n",
    "    \n",
    "    Output:\n",
    "    The optimal permutation\n",
    "    the optimal cost\n",
    "    in a tuple\n",
    "    \"\"\"\n",
    "    #initialization\n",
    "    start = time.time()\n",
    "    matrix_length = len(MatrixLoc)\n",
    "    arraysol = []\n",
    "    bettersol = math.inf\n",
    "    bettersolind = 0\n",
    "    thestring = \"\"\n",
    "    \n",
    "    #Generate the permutations\n",
    "    for i in range(0,matrix_length):  #this is making a string of numbers from 0 to the size of the matrix -1\n",
    "        thestring += str(i) + \" \"\n",
    "    thestring = thestring[:-1]\n",
    "    listofpermutations = list(QAPPermutations(thestring,matrix_length))\n",
    "    no_of_permutations = len(listofpermutations)\n",
    "    \n",
    "    #Generate the multiples (that function we are optimising)\n",
    "    for k in range(no_of_permutations):\n",
    "        perm = listofpermutations[k]\n",
    "        total = 0\n",
    "        i =0\n",
    "        while i < matrix_length and bettersol>=total:\n",
    "            j=0\n",
    "            while j<matrix_length:\n",
    "                if i!=j:\n",
    "                    total += MatrixLoc[i][j]*MatrixFlow[int(perm[i])][int(perm[j])]\n",
    "                j += 1\n",
    "            i += 1\n",
    "        if bettersol>total:\n",
    "            bettersol = total\n",
    "            bettersolind = k\n",
    "        \n",
    "    \n",
    "    finalcost = bettersol\n",
    "    finalindex = bettersolind\n",
    "    end = time.time()\n",
    "    thetime = end - start\n",
    "    \n",
    "    return listofpermutations[finalindex],finalcost,thetime"
   ]
  },
  {
   "cell_type": "code",
   "execution_count": 15,
   "metadata": {},
   "outputs": [
    {
     "data": {
      "text/plain": [
       "(['2', '3', '0', '1'], 790, 0.003996849060058594)"
      ]
     },
     "execution_count": 15,
     "metadata": {},
     "output_type": "execute_result"
    }
   ],
   "source": [
    "BranchandBound(MatrixLoc, MatrixFlow)"
   ]
  },
  {
   "cell_type": "code",
   "execution_count": null,
   "metadata": {},
   "outputs": [],
   "source": []
  }
 ],
 "metadata": {
  "kernelspec": {
   "display_name": "Python 3",
   "language": "python",
   "name": "python3"
  },
  "language_info": {
   "codemirror_mode": {
    "name": "ipython",
    "version": 3
   },
   "file_extension": ".py",
   "mimetype": "text/x-python",
   "name": "python",
   "nbconvert_exporter": "python",
   "pygments_lexer": "ipython3",
   "version": "3.7.6"
  }
 },
 "nbformat": 4,
 "nbformat_minor": 2
}
