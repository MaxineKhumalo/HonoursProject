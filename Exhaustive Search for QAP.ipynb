{
 "cells": [
  {
   "cell_type": "markdown",
   "metadata": {},
   "source": [
    "# Exhaustive Search for the Quadratic Assignment Problem"
   ]
  },
  {
   "cell_type": "code",
   "execution_count": 1,
   "metadata": {},
   "outputs": [],
   "source": [
    "##This is an initialization cell. Run this first\n",
    "import pandas as pd\n",
    "import numpy as np\n",
    "from itertools import product\n",
    "import time\n",
    "import math\n",
    "import matplotlib\n",
    "import matplotlib.pyplot as plt"
   ]
  },
  {
   "cell_type": "markdown",
   "metadata": {},
   "source": [
    "The functions below are for inputting the csv data (that is in the QAPLIB format) and making the matrices numpy arrays."
   ]
  },
  {
   "cell_type": "code",
   "execution_count": 2,
   "metadata": {},
   "outputs": [],
   "source": [
    "def CSVtoNumpyArray(rawdata):\n",
    "    \"\"\"\n",
    "    Input: \n",
    "    rawdata = a csv file (insert name as a string)\n",
    "\n",
    "    Output:\n",
    "    two numpy matrices in a tuple\n",
    "    \"\"\"\n",
    "    data = pd.read_csv(rawdata)  #Reads the data in as a pandas object\n",
    "    c = data.columns\n",
    "    column = int(c[0])\n",
    "    final_data1 = data.iloc[:column,:].values  #Sets data into a series of numpy arrays of strings\n",
    "    final_data2 = data.iloc[column:,:].values  #1 is for the first matrix(loc) and 2 is for the second(flow)\n",
    "    \n",
    "\n",
    "    #Forms the matrix as a numpy array (easier to work with) instead of an list of lists of strings\n",
    "    def string_to_integers(final_data):\n",
    "        matrix = []\n",
    "        for j in range(column):\n",
    "            string = final_data[j][0]\n",
    "            string2 = string.split(\" \")\n",
    "            emptyarray = []\n",
    "            for i in string2:\n",
    "                if i != '':\n",
    "                    emptyarray.append(int(i))\n",
    "            matrix.append(emptyarray)\n",
    "        npmatrix = np.array(matrix) \n",
    "        return npmatrix\n",
    "    return string_to_integers(final_data1),string_to_integers(final_data2)"
   ]
  },
  {
   "cell_type": "code",
   "execution_count": 10,
   "metadata": {},
   "outputs": [],
   "source": [
    "#small sized matrices(under 10x10) (quick on all methods)\n",
    "matrix_size_4 = './data/made4.csv'\n",
    "matrix_size_5 = './data/made5.csv'\n",
    "matrix_size_6 = './data/made6.csv'\n",
    "matrix_size_7 = './data/made7.csv'\n",
    "matrix_size_8 = './data/made8.csv'\n",
    "matrix_size_9 = './data/made9.csv'\n",
    "\n",
    "matrixMade = ['./data/made4.csv', \n",
    "              './data/made5.csv', \n",
    "              './data/made6.csv', \n",
    "              './data/made7.csv', \n",
    "              './data/made8.csv', \n",
    "              './data/made9.csv']\n",
    "\n",
    "\n",
    "#medium sized matrices(ranging from 10x10 to 30x30) (slow on deterministic methods, fast on heuristics)\n",
    "matrix_size_10 = './data/tai10a.csv'\n",
    "matrix_size_11 = './data/made11.csv'\n",
    "matrix_size_12 = './data/tai12a.csv'\n",
    "matrix_size_15 = './data/chr15a.csv' \n",
    "matrix_size_20 = './data/chr20a.csv'\n",
    "matrix_size_26 = './data/bur26a.csv'\n",
    "\n",
    "#large sized matrices(30x30 and bigger)(reasonably slow on the heuristics to a certain degree of accuracy)\n",
    "matrix_size_40 = './data/tai40a.csv'\n",
    "matrix_size_60 = './data/tai60.csv'\n",
    "matrix_size_80 = './data/tai80.csv'\n",
    "matrix_size_256 = './data/tai256c.csv'\n",
    "\n",
    "datamatrix = CSVtoNumpyArray(matrix_size_4) # Decide the size of problem to run in the code (clue: \n",
    "                                                #the number in the original name is the size)\n",
    "MatrixLoc = datamatrix[0]\n",
    "MatrixFlow = datamatrix[1]"
   ]
  },
  {
   "cell_type": "markdown",
   "metadata": {},
   "source": [
    "Below is the permutation generating function. For medium and large instances it would be wise to run this function to file separately first and then use the results for Exhaustive Search and/or Branch and Bound."
   ]
  },
  {
   "cell_type": "code",
   "execution_count": 5,
   "metadata": {},
   "outputs": [],
   "source": [
    "def QAPPermutations(iterable, r=None):\n",
    "    \"\"\"\n",
    "    Input:\n",
    "    String or numbers separated by a space\n",
    "    optional= the length that the permutations must be\n",
    "    \n",
    "    Output:\n",
    "    a generator of permutations\n",
    "    \n",
    "    Sourced from the itertools library and adjusted to suit this data type\n",
    "    https://docs.python.org/3.4/library/itertools.html#itertools.permutations \n",
    "    \"\"\"\n",
    "    \n",
    "    pool = iterable.split(\" \")\n",
    "    n = len(pool)\n",
    "    r = n if r is None else r\n",
    "    for indices in product(range(n), repeat=r):\n",
    "        if len(set(indices)) == r:\n",
    "            yield list(pool[i] for i in indices)"
   ]
  },
  {
   "cell_type": "code",
   "execution_count": null,
   "metadata": {},
   "outputs": [],
   "source": []
  },
  {
   "cell_type": "code",
   "execution_count": 6,
   "metadata": {},
   "outputs": [],
   "source": [
    "def FitnessFunction(MatrixLoc, MatrixFlow, perm):\n",
    "    \"\"\"\n",
    "    Input:\n",
    "    MatrixLoc: numpy array\n",
    "    MatrixFlow: numpy array\n",
    "    perm: numpy array\n",
    "    \n",
    "    Output:\n",
    "    total: int\n",
    "\n",
    "    \"\"\"\n",
    "    #initialization\n",
    "    length = len(MatrixLoc)\n",
    "    total = 0\n",
    "    \n",
    "    #the sum\n",
    "    for i in range(length):\n",
    "        for j in range(length):\n",
    "            if i!=j:\n",
    "                total += MatrixLoc[i][j]*MatrixFlow[int(perm[i])][int(perm[j])]\n",
    "    return total         "
   ]
  },
  {
   "cell_type": "code",
   "execution_count": 8,
   "metadata": {},
   "outputs": [],
   "source": [
    "def ExhaustiveSearch(MatrixLoc, MatrixFlow):\n",
    "    \"\"\"\n",
    "    Input:\n",
    "    MatrixLoc: numpy array\n",
    "    MatrixFlow: numpy array\n",
    "    \n",
    "    Output:\n",
    "    bestpermutation: numpy array\n",
    "    bestcost: int\n",
    "    \n",
    "    \"\"\"\n",
    "    # Important starting values\n",
    "    length = len(MatrixLoc)\n",
    "    thestring = \"\"\n",
    "    \n",
    "    #Generate the permutations\n",
    "    for i in range(0,length):  #this is making a string of numbers from 0 to the size of the matrix -1\n",
    "        thestring += str(i) + \" \"\n",
    "    thestring = thestring[:-1]\n",
    "    listofassociations = np.array(list(QAPPermutations(thestring,length)))#this was the function we made earlier\n",
    "    \n",
    "    #Generate the costs\n",
    "    listofcosts = np.array([])\n",
    "    for k in listofassociations:\n",
    "        z = FitnessFunction(MatrixLoc,MatrixFlow,k)\n",
    "        listofcosts = np.append(listofcosts,z)\n",
    "    \n",
    "    #Find the minimum\n",
    "    bestcost = np.min(listofcosts)    \n",
    "    bestpermutation = listofassociations[np.argmin(listofcosts)]\n",
    "    \n",
    "    return bestcost, bestpermutation"
   ]
  },
  {
   "cell_type": "code",
   "execution_count": 9,
   "metadata": {},
   "outputs": [
    {
     "data": {
      "text/plain": [
       "(790.0, array(['2', '3', '0', '1'], dtype='<U1'))"
      ]
     },
     "execution_count": 9,
     "metadata": {},
     "output_type": "execute_result"
    }
   ],
   "source": [
    "ExhaustiveSearch(MatrixLoc, MatrixFlow)"
   ]
  },
  {
   "cell_type": "code",
   "execution_count": 21,
   "metadata": {},
   "outputs": [
    {
     "data": {
      "text/plain": [
       "[(790.0, array(['2', '3', '0', '1'], dtype='<U1')),\n",
       " (628.0, array(['1', '3', '4', '2', '0'], dtype='<U1')),\n",
       " (626.0, array(['4', '1', '5', '0', '3', '2'], dtype='<U1')),\n",
       " (1478.0, array(['4', '3', '5', '2', '1', '6', '0'], dtype='<U1')),\n",
       " (1808.0, array(['5', '4', '3', '6', '7', '0', '2', '1'], dtype='<U1')),\n",
       " (2282.0, array(['2', '5', '8', '7', '6', '3', '4', '1', '0'], dtype='<U1'))]"
      ]
     },
     "execution_count": 21,
     "metadata": {},
     "output_type": "execute_result"
    }
   ],
   "source": [
    "# temp....\n",
    "results = [ExhaustiveSearch(CSVtoNumpyArray(file)[0], CSVtoNumpyArray(file)[1]) for file in matrixMade]"
   ]
  },
  {
   "cell_type": "code",
   "execution_count": 35,
   "metadata": {},
   "outputs": [
    {
     "name": "stdout",
     "output_type": "stream",
     "text": [
      "Time taken for case: made4.csv is 0.0014 seconds\n",
      "Time taken for case: made5.csv is 0.0079 seconds\n",
      "Time taken for case: made6.csv is 0.0654 seconds\n",
      "Time taken for case: made7.csv is 0.7151 seconds\n",
      "Time taken for case: made8.csv is 10.0037 seconds\n",
      "Time taken for case: made9.csv is 206.8856 seconds\n"
     ]
    }
   ],
   "source": [
    "bestCost = []\n",
    "totTimes = []\n",
    "for file in matrixMade:\n",
    "    loc, flow = CSVtoNumpyArray(file)\n",
    "    start     = time.time()\n",
    "    best, _   = ExhaustiveSearch(loc, flow)\n",
    "    end       = time.time()\n",
    "    bestCost.append(best)\n",
    "    totTimes.append(end - start)\n",
    "    print(\"Time taken for case: {} is {} seconds\".format(file.split(\"/\")[-1], round(end - start, 4)))"
   ]
  },
  {
   "cell_type": "code",
   "execution_count": 42,
   "metadata": {},
   "outputs": [
    {
     "data": {
      "image/png": "[encoded data removed]",
      "text/plain": [
       "<Figure size 432x288 with 1 Axes>"
      ]
     },
     "metadata": {
      "needs_background": "light"
     },
     "output_type": "display_data"
    }
   ],
   "source": [
    "plt.figure()\n",
    "x = np.arange(4, 10)\n",
    "plt.plot(x, totTimes, 'r*--')\n",
    "plt.yscale('log')\n",
    "plt.show()"
   ]
  },
  {
   "cell_type": "code",
   "execution_count": null,
   "metadata": {},
   "outputs": [],
   "source": []
  }
 ],
 "metadata": {
  "kernelspec": {
   "display_name": "Python 3",
   "language": "python",
   "name": "python3"
  },
  "language_info": {
   "codemirror_mode": {
    "name": "ipython",
    "version": 3
   },
   "file_extension": ".py",
   "mimetype": "text/x-python",
   "name": "python",
   "nbconvert_exporter": "python",
   "pygments_lexer": "ipython3",
   "version": "3.7.6"
  }
 },
 "nbformat": 4,
 "nbformat_minor": 2
}
