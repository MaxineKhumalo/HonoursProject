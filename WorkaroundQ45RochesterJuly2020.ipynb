{
 "cells": [
  {
   "cell_type": "markdown",
   "metadata": {},
   "source": [
    "### Workaround for Rochester qubit45 \n",
    "This code is a workaround to the qubit45 problem of backend device ibmq_rochester. It will avoid your circuit to use qubit45. Note that only 52 qubits will be available for your circuits."
   ]
  },
  {
   "cell_type": "code",
   "execution_count": 1,
   "metadata": {},
   "outputs": [],
   "source": [
    "# function to create a new coupling map \n",
    "def fixed_coupling_map(backend):\n",
    "    \"\"\"A coupling map that works around qubit 45.\n",
    "    \n",
    "    Parameters:\n",
    "        backend (IBMQBackend): The Rochester backend.\n",
    "        \n",
    "    Returns:\n",
    "        list: New coupling map.\n",
    "    \"\"\"\n",
    "    if backend.name() != 'ibmq_rochester':\n",
    "        raise Exception('Fix applies to Rochester only.')\n",
    "        \n",
    "    cmap = backend.configuration().coupling_map\n",
    "    new_cmap = [edge for edge in cmap if 45 not in edge]\n",
    "    print(new_cmap)\n",
    "    fixed_cmap = []\n",
    "    for c in new_cmap:\n",
    "        tmp0 = c[0]\n",
    "        tmp1 = c[1]\n",
    "        if c[0] > 45:\n",
    "            tmp0 -= 1\n",
    "        if c[1] > 45:\n",
    "            tmp1 -= 1\n",
    "        fixed_cmap.append([tmp0, tmp1])\n",
    "        \n",
    "    return fixed_cmap "
   ]
  },
  {
   "cell_type": "code",
   "execution_count": 6,
   "metadata": {},
   "outputs": [
    {
     "name": "stderr",
     "output_type": "stream",
     "text": [
      "ibmqfactory.load_account:WARNING:2020-07-07 10:58:11,009: Credentials are already in use. The existing account in the session will be replaced.\n"
     ]
    },
    {
     "data": {
      "text/plain": [
       "[<IBMQSimulator('ibmq_qasm_simulator') from IBMQ(hub='ibm-q-wits', group='internal', project='physics')>,\n",
       " <IBMQBackend('ibmqx2') from IBMQ(hub='ibm-q-wits', group='internal', project='physics')>,\n",
       " <IBMQBackend('ibmq_16_melbourne') from IBMQ(hub='ibm-q-wits', group='internal', project='physics')>,\n",
       " <IBMQBackend('ibmq_vigo') from IBMQ(hub='ibm-q-wits', group='internal', project='physics')>,\n",
       " <IBMQBackend('ibmq_ourense') from IBMQ(hub='ibm-q-wits', group='internal', project='physics')>,\n",
       " <IBMQBackend('ibmq_valencia') from IBMQ(hub='ibm-q-wits', group='internal', project='physics')>,\n",
       " <IBMQBackend('ibmq_london') from IBMQ(hub='ibm-q-wits', group='internal', project='physics')>,\n",
       " <IBMQBackend('ibmq_burlington') from IBMQ(hub='ibm-q-wits', group='internal', project='physics')>,\n",
       " <IBMQBackend('ibmq_johannesburg') from IBMQ(hub='ibm-q-wits', group='internal', project='physics')>,\n",
       " <IBMQBackend('ibmq_rochester') from IBMQ(hub='ibm-q-wits', group='internal', project='physics')>,\n",
       " <IBMQBackend('ibmq_cambridge') from IBMQ(hub='ibm-q-wits', group='internal', project='physics')>]"
      ]
     },
     "execution_count": 6,
     "metadata": {},
     "output_type": "execute_result"
    }
   ],
   "source": [
    "from qiskit import IBMQ\n",
    "\n",
    " # Load account from disk\n",
    "\n",
    "API_token = 'f0988ffce4b74bf048cd5cd010ac77a67529086b139f5917f01e3cba8a65248c454be689b29d8c5b193fa6fbf01b0656231ee462d0bde1b829e12854712b45d2'\n",
    "IBMQ.save_account(API_token, overwrite = True)\n",
    "IBMQ.load_account()\n",
    "IBMQ.providers()\n",
    "\n",
    "provider = IBMQ.get_provider(hub='ibm-q-wits', group='internal', project='physics')\n",
    "provider.backends()"
   ]
  },
  {
   "cell_type": "code",
   "execution_count": 7,
   "metadata": {},
   "outputs": [
    {
     "name": "stdout",
     "output_type": "stream",
     "text": [
      "[[0, 1], [0, 5], [1, 0], [1, 2], [2, 1], [2, 3], [3, 2], [3, 4], [4, 3], [4, 6], [5, 0], [5, 9], [6, 4], [6, 13], [7, 8], [7, 16], [8, 7], [8, 9], [9, 5], [9, 8], [9, 10], [10, 9], [10, 11], [11, 10], [11, 12], [11, 17], [12, 11], [12, 13], [13, 6], [13, 12], [13, 14], [14, 13], [14, 15], [15, 14], [15, 18], [16, 7], [16, 19], [17, 11], [17, 23], [18, 15], [18, 27], [19, 16], [19, 20], [20, 19], [20, 21], [21, 20], [21, 22], [21, 28], [22, 21], [22, 23], [23, 17], [23, 22], [23, 24], [24, 23], [24, 25], [25, 24], [25, 26], [25, 29], [26, 25], [26, 27], [27, 18], [27, 26], [28, 21], [28, 32], [29, 25], [29, 36], [30, 31], [30, 39], [31, 30], [31, 32], [32, 28], [32, 31], [32, 33], [33, 32], [33, 34], [34, 33], [34, 35], [34, 40], [35, 34], [35, 36], [36, 29], [36, 35], [36, 37], [37, 36], [37, 38], [38, 37], [38, 41], [39, 30], [39, 42], [40, 34], [40, 46], [41, 38], [41, 50], [42, 39], [42, 43], [43, 42], [43, 44], [44, 43], [44, 51], [46, 40], [46, 47], [47, 46], [47, 48], [48, 47], [48, 49], [48, 52], [49, 48], [49, 50], [50, 41], [50, 49], [51, 44], [52, 48]]\n"
     ]
    },
    {
     "ename": "NameError",
     "evalue": "name 'transpile' is not defined",
     "output_type": "error",
     "traceback": [
      "\u001b[0;31m---------------------------------------------------------------------------\u001b[0m",
      "\u001b[0;31mNameError\u001b[0m                                 Traceback (most recent call last)",
      "\u001b[0;32m<ipython-input-7-d52d45557ba8>\u001b[0m in \u001b[0;36m<module>\u001b[0;34m\u001b[0m\n\u001b[1;32m      6\u001b[0m \u001b[0;34m\u001b[0m\u001b[0m\n\u001b[1;32m      7\u001b[0m \u001b[0;31m# First you must transpile your circuit using the new coupling_map\u001b[0m\u001b[0;34m\u001b[0m\u001b[0;34m\u001b[0m\u001b[0;34m\u001b[0m\u001b[0m\n\u001b[0;32m----> 8\u001b[0;31m \u001b[0mtrans_circ\u001b[0m \u001b[0;34m=\u001b[0m \u001b[0mtranspile\u001b[0m\u001b[0;34m(\u001b[0m\u001b[0mcirc\u001b[0m\u001b[0;34m,\u001b[0m \u001b[0;32mNone\u001b[0m\u001b[0;34m,\u001b[0m \u001b[0mcoupling_map\u001b[0m\u001b[0;34m=\u001b[0m\u001b[0mfixed_cmap\u001b[0m\u001b[0;34m,\u001b[0m \u001b[0mbasis_gates\u001b[0m\u001b[0;34m=\u001b[0m\u001b[0;34m[\u001b[0m\u001b[0;34m'id'\u001b[0m\u001b[0;34m,\u001b[0m \u001b[0;34m'u1'\u001b[0m\u001b[0;34m,\u001b[0m \u001b[0;34m'u2'\u001b[0m\u001b[0;34m,\u001b[0m \u001b[0;34m'u3'\u001b[0m\u001b[0;34m,\u001b[0m \u001b[0;34m'cx'\u001b[0m\u001b[0;34m]\u001b[0m\u001b[0;34m)\u001b[0m\u001b[0;34m\u001b[0m\u001b[0;34m\u001b[0m\u001b[0m\n\u001b[0m",
      "\u001b[0;31mNameError\u001b[0m: name 'transpile' is not defined"
     ]
    }
   ],
   "source": [
    "# The backend must be 'ibmq_rochester'\n",
    "backend = provider.get_backend('ibmq_rochester')\n",
    "\n",
    "# Use the new coupling map \n",
    "fixed_cmap = fixed_coupling_map(backend)\n",
    "\n",
    "# First you must transpile your circuit using the new coupling_map \n",
    "trans_circ = transpile(circ, None, coupling_map=fixed_cmap, basis_gates=['id', 'u1', 'u2', 'u3', 'cx'])"
   ]
  },
  {
   "cell_type": "code",
   "execution_count": null,
   "metadata": {},
   "outputs": [],
   "source": [
    "# Create the new layout without qubit 45 \n",
    "layout=list(range(45))+ list(range(46,53))\n",
    "\n",
    "# Then execute your circuit using the new intial_layout\n",
    "job = execute(trans_circ, backend, initial_layout=layout)"
   ]
  }
 ],
 "metadata": {
  "kernelspec": {
   "display_name": "Python 3",
   "language": "python",
   "name": "python3"
  },
  "language_info": {
   "codemirror_mode": {
    "name": "ipython",
    "version": 3
   },
   "file_extension": ".py",
   "mimetype": "text/x-python",
   "name": "python",
   "nbconvert_exporter": "python",
   "pygments_lexer": "ipython3",
   "version": "3.7.6"
  }
 },
 "nbformat": 4,
 "nbformat_minor": 4
}
