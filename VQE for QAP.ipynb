{
 "cells": [
  {
   "cell_type": "markdown",
   "metadata": {},
   "source": [
    "# Variational Quantum Eigensolver for the Quadratic Assignment Problem"
   ]
  },
  {
   "cell_type": "code",
   "execution_count": 1,
   "metadata": {},
   "outputs": [],
   "source": [
    "#Initialisation cell\n",
    "from docplex.mp.model import Model\n",
    "from qiskit.providers.ibmq.managed import IBMQJobManager\n",
    "\n",
    "from qiskit import BasicAer, Aer\n",
    "from qiskit.aqua.algorithms import VQE, ExactEigensolver,NumPyEigensolver\n",
    "from qiskit.aqua.components.optimizers import SPSA\n",
    "from qiskit.circuit.library import RealAmplitudes #(uses CX entangling) \n",
    "from qiskit.optimization.applications.ising.common import sample_most_likely\n",
    "from qiskit.circuit.library import TwoLocal\n",
    "#from qiskit.aqua.components.variational_forms import RY\n",
    "from qiskit.aqua import QuantumInstance\n",
    "\n",
    "from docplex.mp.model import Model\n",
    "from qiskit.optimization import QuadraticProgram\n",
    "from qiskit.tools.visualization import plot_histogram\n",
    "from qiskit.optimization.applications.ising import docplex\n",
    "\n",
    "# setup aqua logging\n",
    "import logging\n",
    "from qiskit.aqua import set_qiskit_aqua_logging\n",
    "# set_qiskit_aqua_logging(logging.DEBUG)  # choose INFO, DEBUG to see the log\n",
    "\n",
    "# useful additional packages \n",
    "import matplotlib.pyplot as plt\n",
    "import matplotlib.axes as axes\n",
    "%matplotlib inline\n",
    "import numpy as np\n",
    "import networkx as nx\n",
    "import pandas as pd"
   ]
  },
  {
   "cell_type": "markdown",
   "metadata": {},
   "source": [
    "The functions below are for inputting the csv data (that is in the QAPLIB format) and making the matrices numpy arrays."
   ]
  },
  {
   "cell_type": "code",
   "execution_count": 2,
   "metadata": {},
   "outputs": [],
   "source": [
    "def CSVtoNumpyArray(rawdata):\n",
    "    \"\"\"\n",
    "    Input: \n",
    "    rawdata = a csv file (insert name as a string)\n",
    "\n",
    "    Output:\n",
    "    two numpy matrices in a tuple\n",
    "    \"\"\"\n",
    "    data = pd.read_csv(rawdata)  #Reads the data in as a pandas object\n",
    "    c = data.columns\n",
    "    column = int(c[0])\n",
    "    final_data1 = data.iloc[:column,:].values  #Sets data into a series of numpy arrays of strings\n",
    "    final_data2 = data.iloc[column:,:].values  #1 is for the first matrix(loc) and 2 is for the second(flow)\n",
    "    \n",
    "\n",
    "    #Forms the matrix as a numpy array (easier to work with) instead of an list of lists of strings\n",
    "    def string_to_integers(final_data):\n",
    "        matrix = []\n",
    "        for j in range(column):\n",
    "            string = final_data[j][0]\n",
    "            string2 = string.split(\" \")\n",
    "            emptyarray = []\n",
    "            for i in string2:\n",
    "                if i != '':\n",
    "                    emptyarray.append(int(i))\n",
    "            matrix.append(emptyarray)\n",
    "        npmatrix = np.array(matrix) \n",
    "        return npmatrix\n",
    "    return string_to_integers(final_data1),string_to_integers(final_data2)"
   ]
  },
  {
   "cell_type": "markdown",
   "metadata": {},
   "source": [
    "Below is the fitness function for the QAP using the  Quadratic 0–1 formulation"
   ]
  },
  {
   "cell_type": "code",
   "execution_count": 3,
   "metadata": {},
   "outputs": [],
   "source": [
    "def qap_value(z, MatrixLoc, MatrixFlow):\n",
    "    \"\"\"Compute the TSP value of a solution.\n",
    "    Args:\n",
    "        z (list[int]): list of allocations\n",
    "        MatrixLoc (numpy array): matrix of distances\n",
    "        MatrixFlow (numpy array): matrix of flow\n",
    "    Returns:\n",
    "        float: value of the QAP\n",
    "    \"\"\"\n",
    "    matrix_length = len(MatrixLoc)\n",
    "    x = np.reshape(z, (matrix_length,matrix_length))\n",
    "    \n",
    "    total = 0\n",
    "    for i in range(matrix_length):\n",
    "        for j in range(matrix_length):\n",
    "            for k in range(matrix_length):\n",
    "                for p in range(matrix_length):\n",
    "                    if i !=k:\n",
    "                        total += MatrixLoc[i,j]* MatrixFlow[k,p]*x[i,k]*x[j,p]\n",
    "    \n",
    "    return total"
   ]
  },
  {
   "cell_type": "markdown",
   "metadata": {},
   "source": [
    "Below, IBMQ account is loaded and the backends displayed"
   ]
  },
  {
   "cell_type": "code",
   "execution_count": 4,
   "metadata": {},
   "outputs": [
    {
     "data": {
      "text/plain": [
       "[<AccountProvider for IBMQ(hub='ibm-q', group='open', project='main')>,\n",
       " <AccountProvider for IBMQ(hub='ibm-q-wits', group='internal', project='physics')>]"
      ]
     },
     "execution_count": 4,
     "metadata": {},
     "output_type": "execute_result"
    }
   ],
   "source": [
    "from qiskit import IBMQ\n",
    "\n",
    " # Load account from disk\n",
    "\n",
    "IBMQ.save_account(\"3cd4df76e664d15c0a0dde90b7ce30dd1c5f0040004c5b46c8f6055623a104b2cc23d8473c156efa1dfc6c12fbb052c1c5b25a7b9f2ad26585ebb1a93f2be810\", overwrite = True)\n",
    "IBMQ.load_account()\n",
    "IBMQ.providers()"
   ]
  },
  {
   "cell_type": "code",
   "execution_count": 5,
   "metadata": {},
   "outputs": [
    {
     "data": {
      "text/plain": [
       "[<IBMQSimulator('ibmq_qasm_simulator') from IBMQ(hub='ibm-q-wits', group='internal', project='physics')>,\n",
       " <IBMQBackend('ibmqx2') from IBMQ(hub='ibm-q-wits', group='internal', project='physics')>,\n",
       " <IBMQBackend('ibmq_16_melbourne') from IBMQ(hub='ibm-q-wits', group='internal', project='physics')>,\n",
       " <IBMQBackend('ibmq_vigo') from IBMQ(hub='ibm-q-wits', group='internal', project='physics')>,\n",
       " <IBMQBackend('ibmq_ourense') from IBMQ(hub='ibm-q-wits', group='internal', project='physics')>,\n",
       " <IBMQBackend('ibmq_valencia') from IBMQ(hub='ibm-q-wits', group='internal', project='physics')>,\n",
       " <IBMQBackend('ibmq_london') from IBMQ(hub='ibm-q-wits', group='internal', project='physics')>,\n",
       " <IBMQBackend('ibmq_burlington') from IBMQ(hub='ibm-q-wits', group='internal', project='physics')>,\n",
       " <IBMQBackend('ibmq_johannesburg') from IBMQ(hub='ibm-q-wits', group='internal', project='physics')>,\n",
       " <IBMQBackend('ibmq_rochester') from IBMQ(hub='ibm-q-wits', group='internal', project='physics')>,\n",
       " <IBMQBackend('ibmq_cambridge') from IBMQ(hub='ibm-q-wits', group='internal', project='physics')>,\n",
       " <IBMQBackend('ibmq_paris') from IBMQ(hub='ibm-q-wits', group='internal', project='physics')>]"
      ]
     },
     "execution_count": 5,
     "metadata": {},
     "output_type": "execute_result"
    }
   ],
   "source": [
    "provider = IBMQ.get_provider(hub='ibm-q-wits', group='internal', project='physics')\n",
    "provider.backends()"
   ]
  },
  {
   "cell_type": "code",
   "execution_count": null,
   "metadata": {},
   "outputs": [],
   "source": []
  },
  {
   "cell_type": "markdown",
   "metadata": {},
   "source": [
    "These functions are needed to find and convert the answer"
   ]
  },
  {
   "cell_type": "code",
   "execution_count": 6,
   "metadata": {},
   "outputs": [],
   "source": [
    "def qap_feasible(x):\n",
    "    \"\"\"Check whether a solution is feasible or not.\n",
    "\n",
    "    Args:\n",
    "        x (numpy.ndarray) : binary string as numpy array.\n",
    "\n",
    "    Returns:\n",
    "        bool: feasible or not.\n",
    "    \"\"\"\n",
    "    n = int(np.sqrt(len(x)))\n",
    "    y = np.reshape(x, (n,n))\n",
    "   \n",
    "    for i in range(n):\n",
    "        if sum(y[i, p] for p in range(n)) != 1:\n",
    "            return False\n",
    "    for p__ in range(n):\n",
    "        if sum(y[i, p__] for i in range(n)) != 1:\n",
    "            return False\n",
    "    return True"
   ]
  },
  {
   "cell_type": "code",
   "execution_count": 7,
   "metadata": {},
   "outputs": [],
   "source": [
    "def choose_best_feasible(eigenstates):\n",
    "    \"\"\"\n",
    "    Input:\n",
    "    eigenstates = dictionary\n",
    "    \n",
    "    Output:\n",
    "    feasible binary 1D numpyarray\n",
    "    probability of this answer\n",
    "    \n",
    "    \"\"\"\n",
    "    bestinarray = sorted(eigenstates.items(), key=lambda item: item[1])[::-1]\n",
    "    feasible = False\n",
    "    counter = 0\n",
    "    total = sum(eigenstates.values())\n",
    "    \n",
    "    feasible=False\n",
    "    while feasible==False and counter<len(bestinarray):\n",
    "        #string to array\n",
    "        bestasint = np.array([0])\n",
    "        for i in bestinarray[counter][0]:\n",
    "            bestasint = np.hstack((bestasint, int(i)))\n",
    "        feasible = qap_feasible(bestasint[1:])\n",
    "        frequency = bestinarray[counter][1]\n",
    "        counter += 1\n",
    "        \n",
    "    if feasible == False:\n",
    "        return feasible\n",
    "    else:\n",
    "        return bestasint[1:], frequency/total"
   ]
  },
  {
   "cell_type": "markdown",
   "metadata": {},
   "source": [
    "This function outputs the VQE solutions"
   ]
  },
  {
   "cell_type": "code",
   "execution_count": 8,
   "metadata": {},
   "outputs": [],
   "source": [
    "def testing_quantum(machines, instances):\n",
    "    \"\"\"\n",
    "    Input:\n",
    "    machines: list of strings of the names of available machines\n",
    "    instances: list of instances\n",
    "    \n",
    "    Output:\n",
    "    outmatrix : [time, eigensolution value,machine value,instance]\n",
    "    \"\"\"\n",
    "    instancesolutions = []\n",
    "    for ins in instances:\n",
    "        #get matrix\n",
    "        datamatrix = CSVtoNumpyArray(ins)\n",
    "        MatrixLoc = datamatrix[0]\n",
    "        MatrixFlow = datamatrix[1]\n",
    "        n = len(MatrixLoc)\n",
    "        \n",
    "        # Create an instance of a model and variables.\n",
    "        thename = \"qap\" + str(n)\n",
    "        mdl = Model(name=thename)\n",
    "        x = {(i,p): mdl.binary_var(name='x_{0}_{1}'.format(i,p)) for i in range(n) for p in range(n)}\n",
    "        \n",
    "        # Object function\n",
    "        qap_func = mdl.sum(MatrixLoc[i,j]* MatrixFlow[k,p]*x[i,k]*x[j,p] for i in range(n) for j in range(n) for p in range(n) for k in range(n))\n",
    "        mdl.minimize(qap_func)\n",
    "\n",
    "        # Constraints\n",
    "        for i in range(n):\n",
    "            mdl.add_constraint(mdl.sum(x[(i,p)] for p in range(n)) == 1)\n",
    "        for p in range(n):\n",
    "            mdl.add_constraint(mdl.sum(x[(i,p)] for i in range(n)) == 1)\n",
    "        print(mdl.export_to_string())\n",
    "        qubitOp_docplex, offset_docplex = docplex.get_operator(mdl) #potential error\n",
    "        \n",
    "        #Eigensolver\n",
    "        ee = NumPyEigensolver(qubitOp_docplex, k=1)#potential error\n",
    "        result1 = ee.run() #potential error\n",
    "        print('Eigen energy:', result1['eigenvalues'])\n",
    "        print('Eigen QAP objective:', np.real(result1['eigenvalues'])[0] + offset_docplex)\n",
    "        \n",
    "        #VQE\n",
    "        machinesolutions = []\n",
    "        for j in machines:\n",
    "            seed = 10598\n",
    "            spsa = SPSA(max_trials=300)\n",
    "            ry = RealAmplitudes(qubitOp_docplex.num_qubits, entanglement='linear')\n",
    "            vqe = VQE(qubitOp_docplex, ry, spsa)\n",
    "            \n",
    "            backend = Aer.get_backend(j)\n",
    "            #backend = provider.get_backend(j)\n",
    "            quantum_instance = QuantumInstance(backend, seed_simulator=seed, seed_transpiler=seed)\n",
    "            result = vqe.run(backend)\n",
    "\n",
    "            print('VQE energy:', result['eigenvalue'])\n",
    "            print('VQE time:', result['optimizer_time'])\n",
    "            print('VQE QAP objective:', result['eigenvalue'] + offset_docplex)\n",
    "            x = choose_best_feasible(result['eigenstate'])\n",
    "            soln = qap_value(x[0],MatrixLoc,MatrixFlow)\n",
    "            machinesolutions.append([soln,j,result['optimizer_time'],x])\n",
    "        instancesolutions.append([ins,result1['eigenvalues']+offset_docplex, machinesolutions])\n",
    "        print(instancesolutions)\n",
    "    return instancesolutions\n",
    "    "
   ]
  },
  {
   "cell_type": "code",
   "execution_count": 9,
   "metadata": {},
   "outputs": [],
   "source": [
    "#Uncomment to run on the machines\n",
    "\n",
    "#machines = ['ibmq_qasm_simulator', 'ibmqx2','ibmq_16_melbourne', 'ibmq_vigo', 'ibmq_ourense', 'ibmq_valencia', \n",
    "#'ibmq_london', 'ibmq_burlington', 'ibmq_johannesburg', 'ibmq_rochester', 'ibmq_cambridge', 'ibmq_paris']\n",
    "#instances = ['made4.csv','made4.csv','made5.csv','made6.csv','made7.csv','made8.csv']\n",
    "\n",
    "#eigens = testing_quantum(machines, instances)"
   ]
  },
  {
   "cell_type": "code",
   "execution_count": null,
   "metadata": {},
   "outputs": [],
   "source": []
  },
  {
   "cell_type": "code",
   "execution_count": 10,
   "metadata": {},
   "outputs": [
    {
     "name": "stdout",
     "output_type": "stream",
     "text": [
      "\\ This file has been generated by DOcplex\n",
      "\\ ENCODING=ISO-8859-1\n",
      "\\Problem name: qap4\n",
      "\n",
      "Minimize\n",
      " obj: [ 264 x_0_0*x_1_1 + 176 x_0_0*x_1_3 + 636 x_0_0*x_2_1 + 424 x_0_0*x_2_3\n",
      "      + 636 x_0_0*x_3_1 + 424 x_0_0*x_3_3 + 264 x_0_1*x_1_0 + 88 x_0_1*x_1_3\n",
      "      + 636 x_0_1*x_2_0 + 212 x_0_1*x_2_3 + 636 x_0_1*x_3_0 + 212 x_0_1*x_3_3\n",
      "      + 352 x_0_2*x_1_3 + 848 x_0_2*x_2_3 + 848 x_0_2*x_3_3 + 176 x_0_3*x_1_0\n",
      "      + 88 x_0_3*x_1_1 + 352 x_0_3*x_1_2 + 424 x_0_3*x_2_0 + 212 x_0_3*x_2_1\n",
      "      + 848 x_0_3*x_2_2 + 424 x_0_3*x_3_0 + 212 x_0_3*x_3_1 + 848 x_0_3*x_3_2\n",
      "      + 480 x_1_0*x_2_1 + 320 x_1_0*x_2_3 + 744 x_1_0*x_3_1 + 496 x_1_0*x_3_3\n",
      "      + 480 x_1_1*x_2_0 + 160 x_1_1*x_2_3 + 744 x_1_1*x_3_0 + 248 x_1_1*x_3_3\n",
      "      + 640 x_1_2*x_2_3 + 992 x_1_2*x_3_3 + 320 x_1_3*x_2_0 + 160 x_1_3*x_2_1\n",
      "      + 640 x_1_3*x_2_2 + 496 x_1_3*x_3_0 + 248 x_1_3*x_3_1 + 992 x_1_3*x_3_2\n",
      "      + 660 x_2_0*x_3_1 + 440 x_2_0*x_3_3 + 660 x_2_1*x_3_0 + 220 x_2_1*x_3_3\n",
      "      + 880 x_2_2*x_3_3 + 440 x_2_3*x_3_0 + 220 x_2_3*x_3_1 + 880 x_2_3*x_3_2\n",
      "      ]/2\n",
      "Subject To\n",
      " c1: x_0_0 + x_0_1 + x_0_2 + x_0_3 = 1\n",
      " c2: x_1_0 + x_1_1 + x_1_2 + x_1_3 = 1\n",
      " c3: x_2_0 + x_2_1 + x_2_2 + x_2_3 = 1\n",
      " c4: x_3_0 + x_3_1 + x_3_2 + x_3_3 = 1\n",
      " c5: x_0_0 + x_1_0 + x_2_0 + x_3_0 = 1\n",
      " c6: x_0_1 + x_1_1 + x_2_1 + x_3_1 = 1\n",
      " c7: x_0_2 + x_1_2 + x_2_2 + x_3_2 = 1\n",
      " c8: x_0_3 + x_1_3 + x_2_3 + x_3_3 = 1\n",
      "\n",
      "Bounds\n",
      " 0 <= x_0_0 <= 1\n",
      " 0 <= x_0_1 <= 1\n",
      " 0 <= x_0_2 <= 1\n",
      " 0 <= x_0_3 <= 1\n",
      " 0 <= x_1_0 <= 1\n",
      " 0 <= x_1_1 <= 1\n",
      " 0 <= x_1_2 <= 1\n",
      " 0 <= x_1_3 <= 1\n",
      " 0 <= x_2_0 <= 1\n",
      " 0 <= x_2_1 <= 1\n",
      " 0 <= x_2_2 <= 1\n",
      " 0 <= x_2_3 <= 1\n",
      " 0 <= x_3_0 <= 1\n",
      " 0 <= x_3_1 <= 1\n",
      " 0 <= x_3_2 <= 1\n",
      " 0 <= x_3_3 <= 1\n",
      "\n",
      "Binaries\n",
      " x_0_0 x_0_1 x_0_2 x_0_3 x_1_0 x_1_1 x_1_2 x_1_3 x_2_0 x_2_1 x_2_2 x_2_3 x_3_0\n",
      " x_3_1 x_3_2 x_3_3\n",
      "End\n",
      "\n",
      "Eigen energy: [-184476.+0.j]\n",
      "Eigen QAP objective: 790.0\n",
      "VQE energy: (-152464.3475647751+0j)\n",
      "VQE time: 91.87487173080444\n",
      "VQE QAP objective: (32801.65243522491+0j)\n",
      "[['made4.csv', array([790.+0.j]), [[462, 'qasm_simulator', 91.87487173080444, (array([1, 0, 0, 0, 0, 0, 1, 0, 0, 1, 0, 0, 0, 0, 0, 1]), 0.1015625)]]]]\n"
     ]
    },
    {
     "data": {
      "text/plain": [
       "[['made4.csv',\n",
       "  array([790.+0.j]),\n",
       "  [[462,\n",
       "    'qasm_simulator',\n",
       "    91.87487173080444,\n",
       "    (array([1, 0, 0, 0, 0, 0, 1, 0, 0, 1, 0, 0, 0, 0, 0, 1]), 0.1015625)]]]]"
      ]
     },
     "execution_count": 10,
     "metadata": {},
     "output_type": "execute_result"
    }
   ],
   "source": [
    "machines = ['qasm_simulator']\n",
    "instances = ['made4.csv']\n",
    "\n",
    "testing_quantum(machines, instances)"
   ]
  },
  {
   "cell_type": "code",
   "execution_count": null,
   "metadata": {},
   "outputs": [],
   "source": []
  }
 ],
 "metadata": {
  "kernelspec": {
   "display_name": "Python 3",
   "language": "python",
   "name": "python3"
  },
  "language_info": {
   "codemirror_mode": {
    "name": "ipython",
    "version": 3
   },
   "file_extension": ".py",
   "mimetype": "text/x-python",
   "name": "python",
   "nbconvert_exporter": "python",
   "pygments_lexer": "ipython3",
   "version": "3.7.4"
  }
 },
 "nbformat": 4,
 "nbformat_minor": 2
}
