{
 "cells": [
  {
   "cell_type": "markdown",
   "metadata": {},
   "source": [
    "# Simulated Annealing"
   ]
  },
  {
   "cell_type": "code",
   "execution_count": 2,
   "metadata": {},
   "outputs": [],
   "source": [
    "##This is an initialization cell. Run this first\n",
    "import pandas as pd\n",
    "import numpy as np\n",
    "from itertools import product\n",
    "import time\n",
    "import math\n",
    "import matplotlib\n",
    "import matplotlib.pyplot as plt"
   ]
  },
  {
   "cell_type": "markdown",
   "metadata": {},
   "source": [
    "### Repository"
   ]
  },
  {
   "cell_type": "code",
   "execution_count": 3,
   "metadata": {},
   "outputs": [],
   "source": [
    "def CSVtoNumpyArray(rawdata):\n",
    "    \"\"\"\n",
    "    Input: \n",
    "    rawdata = a csv file (insert name as a string)\n",
    "\n",
    "    Output:\n",
    "    two numpy matrices in a tuple\n",
    "    \"\"\"\n",
    "    data = pd.read_csv(rawdata)  #Reads the data in as a pandas object\n",
    "    c = data.columns\n",
    "    column = int(c[0])\n",
    "    final_data1 = data.iloc[:column,:].values  #Sets data into a series of numpy arrays of strings\n",
    "    final_data2 = data.iloc[column:,:].values  #1 is for the first matrix(loc) and 2 is for the second(flow)\n",
    "    \n",
    "\n",
    "    #Forms the matrix as a numpy array (easier to work with) instead of an list of lists of strings\n",
    "    def string_to_integers(final_data):\n",
    "        matrix = []\n",
    "        for j in range(column):\n",
    "            string = final_data[j][0]\n",
    "            string2 = string.split(\" \")\n",
    "            emptyarray = []\n",
    "            for i in string2:\n",
    "                if i != '':\n",
    "                    emptyarray.append(int(i))\n",
    "            matrix.append(emptyarray)\n",
    "        npmatrix = np.array(matrix) \n",
    "        return npmatrix\n",
    "    return string_to_integers(final_data1),string_to_integers(final_data2)"
   ]
  },
  {
   "cell_type": "code",
   "execution_count": 4,
   "metadata": {},
   "outputs": [],
   "source": [
    "#REPOSITORY\n",
    "\n",
    "#small sized matrices(under 10x10)\n",
    "matrix_size_4 = 'made4.csv'\n",
    "matrix_size_5 = 'made5.csv'\n",
    "matrix_size_6 = 'made6.csv'\n",
    "matrix_size_7 = 'made7.csv'\n",
    "matrix_size_8 = 'made8.csv'\n",
    "matrix_size_9 = 'made9.csv'\n",
    "\n",
    "#medium sized matrices(ranging from 10x10 to 30x30)\n",
    "matrix_size_10 = 'tai10a.csv'\n",
    "matrix_size_11 = 'tai11a.csv'\n",
    "matrix_size_12 = 'tai12a.csv'\n",
    "matrix_size_15 = 'chr15a.csv' \n",
    "matrix_size_20 = 'chr20a.csv'\n",
    "matrix_size_26 = 'bur26a.csv'\n",
    "\n",
    "#large sized matrices(30x30 and bigger)\n",
    "matrix_size_40 = 'tai40a.csv'\n",
    "matrix_size_60 = 'tai60.csv'\n",
    "matrix_size_80 = 'tai80.csv'\n",
    "matrix_size_256 = 'tai256c.csv'\n",
    "\n",
    "datamatrix = CSVtoNumpyArray(matrix_size_4) # Decide the size of problem to run in the code \n",
    "                                            # (clue: the number in the original name is the size)\n",
    "MatrixLoc = datamatrix[0]\n",
    "MatrixFlow = datamatrix[1]\n"
   ]
  },
  {
   "cell_type": "code",
   "execution_count": 5,
   "metadata": {},
   "outputs": [],
   "source": []
  },
  {
   "cell_type": "markdown",
   "metadata": {},
   "source": [
    "# Simulated Annealing Algorithm"
   ]
  },
  {
   "cell_type": "markdown",
   "metadata": {},
   "source": [
    "### https://www.sciencedirect.com/science/article/pii/S0360835296002653 \n",
    "### **Simulated Annealing for the Quadratic Assignment Problem: A Further Study by Tian Peng,  Wang Huanchen , Zhang Dongme**\n",
    "\n",
    "This paper looks into the use of the Simulated Annealing Algorithm specifically for the Quadratic Assignment Problem."
   ]
  },
  {
   "cell_type": "code",
   "execution_count": null,
   "metadata": {},
   "outputs": [],
   "source": [
    "  "
   ]
  },
  {
   "cell_type": "code",
   "execution_count": 10,
   "metadata": {},
   "outputs": [],
   "source": [
    "def saQAP( T, e, L, alpha, name):\n",
    "    \"\"\"\n",
    "    Input: \n",
    "    T - scalar value(large)\n",
    "    e - scalar small value as a lower bound\n",
    "    L - scalar large for number of iterations\n",
    "    alpha - scalar between 0 and 1\n",
    "    name - string to csv file\n",
    "    \n",
    "    Output:\n",
    "    x - vector(1 by n) - final permutation\n",
    "    fitnessQAP(x, D, F) - scalar total\n",
    "    \n",
    "    \"\"\"\n",
    "    \n",
    "    MatrixLoc = CSVtoNumpyArray(name)[0]\n",
    "    MatrixFlow = CSVtoNumpyArray(name)[1]\n",
    "    n     = len(MatrixLoc)\n",
    "    x= list(range(n))\n",
    "    \n",
    "    while T > e:\n",
    "        for i in range(L):\n",
    "            num1, num2 = np.random.choice(n, 2, replace = False)\n",
    "            fx      = fitnessQAP(x, MatrixLoc, MatrixFlow)\n",
    "            y       = x.copy()\n",
    "            temp    = y[num1]\n",
    "            y[num1] = y[num2]\n",
    "            y[num2] = temp\n",
    "            fy      = fitnessQAP(y, MatrixLoc, MatrixFlow)\n",
    "            if fy < fx:\n",
    "                x  = y.copy()\n",
    "                fx = fy.copy()\n",
    "            elif np.random.rand() < np.exp(-(fy - fx)/T):\n",
    "                x  = y.copy()\n",
    "                fx = fy.copy()\n",
    "        T = alpha*T\n",
    "    return x, fitnessQAP(x, MatrixLoc, MatrixFlow)"
   ]
  },
  {
   "cell_type": "code",
   "execution_count": 11,
   "metadata": {},
   "outputs": [],
   "source": [
    "def fitnessQAP(x, MatrixLoc, MatrixFlow):\n",
    "    n     = len(x)\n",
    "    total = 0\n",
    "    for i in range(n):\n",
    "        for k in range(n):\n",
    "            if i != k:\n",
    "                total += MatrixLoc[i][k]*MatrixFlow[int(x[i])][int(x[k])]\n",
    "    return total"
   ]
  },
  {
   "cell_type": "code",
   "execution_count": null,
   "metadata": {},
   "outputs": [],
   "source": []
  },
  {
   "cell_type": "code",
   "execution_count": 12,
   "metadata": {},
   "outputs": [
    {
     "data": {
      "text/plain": [
       "([2, 3, 0, 1], 790)"
      ]
     },
     "execution_count": 12,
     "metadata": {},
     "output_type": "execute_result"
    }
   ],
   "source": [
    "T     = 100000\n",
    "e     = 1e-3\n",
    "L     = 20\n",
    "alpha = 0.99\n",
    "saQAP( T, e, L, alpha, 'made4.csv')"
   ]
  },
  {
   "cell_type": "code",
   "execution_count": null,
   "metadata": {},
   "outputs": [],
   "source": []
  }
 ],
 "metadata": {
  "kernelspec": {
   "display_name": "Python 3",
   "language": "python",
   "name": "python3"
  },
  "language_info": {
   "codemirror_mode": {
    "name": "ipython",
    "version": 3
   },
   "file_extension": ".py",
   "mimetype": "text/x-python",
   "name": "python",
   "nbconvert_exporter": "python",
   "pygments_lexer": "ipython3",
   "version": "3.7.4"
  }
 },
 "nbformat": 4,
 "nbformat_minor": 2
}
